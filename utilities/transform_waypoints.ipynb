{
 "cells": [
  {
   "cell_type": "code",
   "execution_count": 4,
   "metadata": {},
   "outputs": [],
   "source": [
    "import numpy as np\n",
    "import pandas as pd"
   ]
  },
  {
   "cell_type": "code",
   "execution_count": 5,
   "metadata": {},
   "outputs": [],
   "source": [
    "dat = pd.read_csv(\"final_major_map_waypoints.txt\", header=None)"
   ]
  },
  {
   "cell_type": "code",
   "execution_count": 6,
   "metadata": {},
   "outputs": [
    {
     "name": "stdout",
     "output_type": "stream",
     "text": [
      "                 0           1            2\n",
      "0      2599.199951  104.746101  4372.600098\n",
      "1      2599.199951  104.682404  4372.600098\n",
      "2      2599.199951  104.594200  4372.600098\n",
      "3      2599.199951  104.481499  4372.600098\n",
      "4      2599.199951  104.344292  4372.600098\n",
      "...            ...         ...          ...\n",
      "27251  2589.463623  103.452888  4322.631348\n",
      "27252  2589.454102  103.454468  4322.580078\n",
      "27253  2589.444824  103.455994  4322.529785\n",
      "27254  2589.436035  103.457458  4322.481445\n",
      "27255  2589.427490  103.458893  4322.434570\n",
      "\n",
      "[27256 rows x 3 columns]\n"
     ]
    }
   ],
   "source": [
    "print(dat)"
   ]
  },
  {
   "cell_type": "code",
   "execution_count": 7,
   "metadata": {},
   "outputs": [],
   "source": [
    "dat_np = np.asarray(dat)"
   ]
  },
  {
   "cell_type": "code",
   "execution_count": 8,
   "metadata": {},
   "outputs": [
    {
     "name": "stdout",
     "output_type": "stream",
     "text": [
      "(27256, 3)\n"
     ]
    }
   ],
   "source": [
    "dat_np\n",
    "print(dat_np.shape)\n",
    "dat_np = dat_np[:,[0,2,1]]"
   ]
  },
  {
   "cell_type": "code",
   "execution_count": 28,
   "metadata": {},
   "outputs": [
    {
     "name": "stdout",
     "output_type": "stream",
     "text": [
      "final length 6942\n",
      "[-4372.60009766 -2599.19995117   104.74610138]\n"
     ]
    }
   ],
   "source": [
    "from roar_py_interface import RoarPyWaypoint\n",
    "from typing import List, Tuple\n",
    "from roar_py_carla_implementation.utils import *\n",
    "import carla\n",
    "\n",
    "def generate_waypoints(locations : List[np.ndarray], distance_between_waypoints : float, lane_width : float):\n",
    "    locations = [location_from_carla(carla.Location(x=location[0], y=location[1], z=location[2])) for location in locations]\n",
    "    waypoint_locations = [locations[0]]\n",
    "    waypoint_rotations = []\n",
    "    last_location_idx = 0\n",
    "    for i in range(1,len(locations)):\n",
    "        next_location = locations[i]\n",
    "        dist_to_last_location = np.linalg.norm(next_location - locations[last_location_idx])\n",
    "        if dist_to_last_location > distance_between_waypoints:\n",
    "            waypoint_locations.append(next_location)\n",
    "            waypoint_rotations.append(np.arctan2(next_location[1] - locations[last_location_idx][1], next_location[0] - locations[last_location_idx][0]))\n",
    "            last_location_idx = i\n",
    "    waypoint_rotations.append(np.arctan2(locations[0][1] - waypoint_locations[-1][1], locations[0][0] - waypoint_locations[-1][0]))\n",
    "    waypoints = []\n",
    "    for i in range(len(waypoint_locations)):\n",
    "        waypoints.append(RoarPyWaypoint(\n",
    "            waypoint_locations[i],\n",
    "            np.array([0,0,waypoint_rotations[i]]),\n",
    "            lane_width\n",
    "        ))\n",
    "    return waypoints\n",
    "\n",
    "waypoints = generate_waypoints(dat_np, 2, 3.5)\n",
    "print(\"final length\",len(waypoints))\n",
    "\n",
    "np.savez_compressed(\"final_major_map_waypoints.npz\", **RoarPyWaypoint.save_waypoint_list(waypoints))\n",
    "print(waypoints[0].location)"
   ]
  },
  {
   "cell_type": "code",
   "execution_count": 26,
   "metadata": {},
   "outputs": [
    {
     "name": "stdout",
     "output_type": "stream",
     "text": [
      "(11, 3)\n"
     ]
    }
   ],
   "source": [
    "\n",
    "def generate_spawn_points(waypoints : List[RoarPyWaypoint]) -> Tuple[np.ndarray, np.ndarray]:\n",
    "    spawn_point_locations = []\n",
    "    spawn_rotations = []\n",
    "    for spawn_point in waypoints[::len(waypoints)//10]:\n",
    "        spawn_point_locations.append(spawn_point.location)\n",
    "        spawn_rotations.append(spawn_point.roll_pitch_yaw)\n",
    "    return np.stack(spawn_point_locations, axis=0), np.stack(spawn_rotations, axis=0)\n",
    "\n",
    "spawn_point_locations, spawn_rotations = generate_spawn_points(waypoints)\n",
    "print(spawn_point_locations.shape)\n",
    "np.savez_compressed(\"final_major_map_spawn_points.npz\", locations=spawn_point_locations, rotations=spawn_rotations)"
   ]
  },
  {
   "cell_type": "code",
   "execution_count": null,
   "metadata": {},
   "outputs": [],
   "source": []
  }
 ],
 "metadata": {
  "kernelspec": {
   "display_name": "roar_py",
   "language": "python",
   "name": "python3"
  },
  "language_info": {
   "codemirror_mode": {
    "name": "ipython",
    "version": 3
   },
   "file_extension": ".py",
   "mimetype": "text/x-python",
   "name": "python",
   "nbconvert_exporter": "python",
   "pygments_lexer": "ipython3",
   "version": "3.8.16"
  },
  "orig_nbformat": 4
 },
 "nbformat": 4,
 "nbformat_minor": 2
}
