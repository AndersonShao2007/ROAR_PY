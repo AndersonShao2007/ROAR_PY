{
 "cells": [
  {
   "cell_type": "code",
   "execution_count": 1,
   "metadata": {},
   "outputs": [],
   "source": [
    "import numpy as np\n",
    "import pandas as pd"
   ]
  },
  {
   "cell_type": "code",
   "execution_count": 2,
   "metadata": {},
   "outputs": [],
   "source": [
    "dat = pd.read_csv(\"final_major_map_waypoints.txt\", header=None)"
   ]
  },
  {
   "cell_type": "code",
   "execution_count": 3,
   "metadata": {},
   "outputs": [
    {
     "name": "stdout",
     "output_type": "stream",
     "text": [
      "                 0           1            2\n",
      "0      2599.199951  104.746101  4372.600098\n",
      "1      2599.199951  104.682404  4372.600098\n",
      "2      2599.199951  104.594200  4372.600098\n",
      "3      2599.199951  104.481499  4372.600098\n",
      "4      2599.199951  104.344292  4372.600098\n",
      "...            ...         ...          ...\n",
      "27251  2589.463623  103.452888  4322.631348\n",
      "27252  2589.454102  103.454468  4322.580078\n",
      "27253  2589.444824  103.455994  4322.529785\n",
      "27254  2589.436035  103.457458  4322.481445\n",
      "27255  2589.427490  103.458893  4322.434570\n",
      "\n",
      "[27256 rows x 3 columns]\n"
     ]
    }
   ],
   "source": [
    "print(dat)"
   ]
  },
  {
   "cell_type": "code",
   "execution_count": 4,
   "metadata": {},
   "outputs": [],
   "source": [
    "dat_np = np.asarray(dat)"
   ]
  },
  {
   "cell_type": "code",
   "execution_count": 5,
   "metadata": {},
   "outputs": [
    {
     "name": "stdout",
     "output_type": "stream",
     "text": [
      "(27256, 3)\n"
     ]
    }
   ],
   "source": [
    "dat_np\n",
    "print(dat_np.shape)\n",
    "dat_np = dat_np[:,[0,2,1]]"
   ]
  },
  {
   "cell_type": "code",
   "execution_count": 6,
   "metadata": {},
   "outputs": [],
   "source": [
    "np.savez_compressed(\"final_major_map_waypoints.npz\", dat_np)"
   ]
  },
  {
   "cell_type": "code",
   "execution_count": 9,
   "metadata": {},
   "outputs": [],
   "source": [
    "spawn_point_locations = dat_np[::100]\n",
    "spawn_point_yaws = np.zeros((len(spawn_point_locations), 1))\n",
    "length_of_spawn_points = len(spawn_point_locations)\n",
    "for i in range(length_of_spawn_points):\n",
    "    spawn_point_yaws[i] = np.arctan2(\n",
    "        spawn_point_locations[(i+1)%length_of_spawn_points][1] - spawn_point_locations[i%length_of_spawn_points][1],\n",
    "        spawn_point_locations[(i+1)%length_of_spawn_points][0] - spawn_point_locations[i%length_of_spawn_points][0]\n",
    "    )\n",
    "\n",
    "spawn_rotations = np.concatenate((\n",
    "    np.zeros((length_of_spawn_points, 2)),\n",
    "    spawn_point_yaws\n",
    "),axis=1)\n",
    "\n",
    "np.savez_compressed(\"final_major_map_spawn_points.npz\", locations=spawn_point_locations, rotations=spawn_rotations)"
   ]
  },
  {
   "cell_type": "code",
   "execution_count": null,
   "metadata": {},
   "outputs": [],
   "source": []
  }
 ],
 "metadata": {
  "kernelspec": {
   "display_name": "roar_py",
   "language": "python",
   "name": "python3"
  },
  "language_info": {
   "codemirror_mode": {
    "name": "ipython",
    "version": 3
   },
   "file_extension": ".py",
   "mimetype": "text/x-python",
   "name": "python",
   "nbconvert_exporter": "python",
   "pygments_lexer": "ipython3",
   "version": "3.8.16"
  },
  "orig_nbformat": 4
 },
 "nbformat": 4,
 "nbformat_minor": 2
}
